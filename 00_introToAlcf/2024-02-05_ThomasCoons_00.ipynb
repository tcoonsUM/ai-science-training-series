{
 "cells": [
  {
   "cell_type": "markdown",
   "id": "c100f54f-8f1a-4740-b938-5b40e2ece873",
   "metadata": {},
   "source": [
    "# This is my 0th homework assignment"
   ]
  },
  {
   "cell_type": "code",
   "execution_count": null,
   "id": "988a6370-7a67-46a4-88e1-21d865699314",
   "metadata": {},
   "outputs": [],
   "source": [
    "import numpy as np\n",
    "print(\"hello, world\")"
   ]
  },
  {
   "cell_type": "markdown",
   "id": "36a998f0-ab9e-40d8-a580-7453c2c3a767",
   "metadata": {},
   "source": [
    "# This is my 0th homework assignment"
   ]
  }
 ],
 "metadata": {
  "kernelspec": {
   "display_name": "Python 3 (ipykernel)",
   "language": "python",
   "name": "python3"
  },
  "language_info": {
   "codemirror_mode": {
    "name": "ipython",
    "version": 3
   },
   "file_extension": ".py",
   "mimetype": "text/x-python",
   "name": "python",
   "nbconvert_exporter": "python",
   "pygments_lexer": "ipython3",
   "version": "3.9.15"
  }
 },
 "nbformat": 4,
 "nbformat_minor": 5
}
